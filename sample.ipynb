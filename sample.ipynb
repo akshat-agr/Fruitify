{
 "cells": [
  {
   "cell_type": "code",
   "execution_count": null,
   "metadata": {},
   "outputs": [],
   "source": [
    "datagen_kwargs = dict(rescale=1./255, validation_split=0.20)\n",
    "\n",
    "train_datagen = tf.keras.preprocessing.image.ImageDataGenerator(**datagen_kwargs)\n",
    "train_generator = train_datagen.flow_from_directory(\n",
    "    TRAINING_DATA_DIR, \n",
    "    subset=\"training\", \n",
    "    shuffle=True,\n",
    "    target_size=IMAGE_SHAPE\n",
    ")\n",
    "\n",
    "valid_datagen = tf.keras.preprocessing.image.ImageDataGenerator(**datagen_kwargs)\n",
    "valid_generator = valid_datagen.flow_from_directory(\n",
    "    TRAINING_DATA_DIR, \n",
    "    subset=\"validation\", \n",
    "    shuffle=True,\n",
    "    target_size=IMAGE_SHAPE\n",
    ")\n"
   ]
  }
 ],
 "metadata": {
  "kernelspec": {
   "display_name": "hacka",
   "language": "python",
   "name": "python3"
  },
  "language_info": {
   "name": "python",
   "version": "3.11.2"
  }
 },
 "nbformat": 4,
 "nbformat_minor": 2
}
